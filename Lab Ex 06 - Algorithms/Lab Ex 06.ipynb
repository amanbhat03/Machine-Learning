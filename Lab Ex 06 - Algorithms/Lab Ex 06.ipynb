{
  "metadata": {
    "kernelspec": {
      "name": "python",
      "display_name": "Python (Pyodide)",
      "language": "python"
    },
    "language_info": {
      "codemirror_mode": {
        "name": "python",
        "version": 3
      },
      "file_extension": ".py",
      "mimetype": "text/x-python",
      "name": "python",
      "nbconvert_exporter": "python",
      "pygments_lexer": "ipython3",
      "version": "3.8"
    }
  },
  "nbformat_minor": 4,
  "nbformat": 4,
  "cells": [
    {
      "cell_type": "code",
      "source": "import pandas as pd\nfrom sklearn.model_selection import train_test_split\nfrom sklearn.preprocessing import LabelEncoder, StandardScaler\nfrom sklearn.svm import SVC\nfrom sklearn.metrics import accuracy_score, classification_report, confusion_matrix\nfrom sklearn.tree import DecisionTreeClassifier\nfrom sklearn.ensemble import RandomForestClassifier\nfrom sklearn.ensemble import AdaBoostClassifier\nfrom sklearn.model_selection import RandomizedSearchCV\nfrom sklearn.model_selection import GridSearchCV",
      "metadata": {
        "trusted": true
      },
      "outputs": [],
      "execution_count": 1
    },
    {
      "cell_type": "code",
      "source": "data = pd.read_csv('Telco-Customer-Churn.csv')\ndata.head()",
      "metadata": {
        "trusted": true
      },
      "outputs": [
        {
          "execution_count": 2,
          "output_type": "execute_result",
          "data": {
            "text/plain": "   customerID  gender  SeniorCitizen Partner Dependents  tenure PhoneService  \\\n0  7590-VHVEG  Female              0     Yes         No       1           No   \n1  5575-GNVDE    Male              0      No         No      34          Yes   \n2  3668-QPYBK    Male              0      No         No       2          Yes   \n3  7795-CFOCW    Male              0      No         No      45           No   \n4  9237-HQITU  Female              0      No         No       2          Yes   \n\n      MultipleLines InternetService OnlineSecurity  ... DeviceProtection  \\\n0  No phone service             DSL             No  ...               No   \n1                No             DSL            Yes  ...              Yes   \n2                No             DSL            Yes  ...               No   \n3  No phone service             DSL            Yes  ...              Yes   \n4                No     Fiber optic             No  ...               No   \n\n  TechSupport StreamingTV StreamingMovies        Contract PaperlessBilling  \\\n0          No          No              No  Month-to-month              Yes   \n1          No          No              No        One year               No   \n2          No          No              No  Month-to-month              Yes   \n3         Yes          No              No        One year               No   \n4          No          No              No  Month-to-month              Yes   \n\n               PaymentMethod MonthlyCharges  TotalCharges Churn  \n0           Electronic check          29.85         29.85    No  \n1               Mailed check          56.95        1889.5    No  \n2               Mailed check          53.85        108.15   Yes  \n3  Bank transfer (automatic)          42.30       1840.75    No  \n4           Electronic check          70.70        151.65   Yes  \n\n[5 rows x 21 columns]",
            "text/html": "<div>\n<style scoped>\n    .dataframe tbody tr th:only-of-type {\n        vertical-align: middle;\n    }\n\n    .dataframe tbody tr th {\n        vertical-align: top;\n    }\n\n    .dataframe thead th {\n        text-align: right;\n    }\n</style>\n<table border=\"1\" class=\"dataframe\">\n  <thead>\n    <tr style=\"text-align: right;\">\n      <th></th>\n      <th>customerID</th>\n      <th>gender</th>\n      <th>SeniorCitizen</th>\n      <th>Partner</th>\n      <th>Dependents</th>\n      <th>tenure</th>\n      <th>PhoneService</th>\n      <th>MultipleLines</th>\n      <th>InternetService</th>\n      <th>OnlineSecurity</th>\n      <th>...</th>\n      <th>DeviceProtection</th>\n      <th>TechSupport</th>\n      <th>StreamingTV</th>\n      <th>StreamingMovies</th>\n      <th>Contract</th>\n      <th>PaperlessBilling</th>\n      <th>PaymentMethod</th>\n      <th>MonthlyCharges</th>\n      <th>TotalCharges</th>\n      <th>Churn</th>\n    </tr>\n  </thead>\n  <tbody>\n    <tr>\n      <th>0</th>\n      <td>7590-VHVEG</td>\n      <td>Female</td>\n      <td>0</td>\n      <td>Yes</td>\n      <td>No</td>\n      <td>1</td>\n      <td>No</td>\n      <td>No phone service</td>\n      <td>DSL</td>\n      <td>No</td>\n      <td>...</td>\n      <td>No</td>\n      <td>No</td>\n      <td>No</td>\n      <td>No</td>\n      <td>Month-to-month</td>\n      <td>Yes</td>\n      <td>Electronic check</td>\n      <td>29.85</td>\n      <td>29.85</td>\n      <td>No</td>\n    </tr>\n    <tr>\n      <th>1</th>\n      <td>5575-GNVDE</td>\n      <td>Male</td>\n      <td>0</td>\n      <td>No</td>\n      <td>No</td>\n      <td>34</td>\n      <td>Yes</td>\n      <td>No</td>\n      <td>DSL</td>\n      <td>Yes</td>\n      <td>...</td>\n      <td>Yes</td>\n      <td>No</td>\n      <td>No</td>\n      <td>No</td>\n      <td>One year</td>\n      <td>No</td>\n      <td>Mailed check</td>\n      <td>56.95</td>\n      <td>1889.5</td>\n      <td>No</td>\n    </tr>\n    <tr>\n      <th>2</th>\n      <td>3668-QPYBK</td>\n      <td>Male</td>\n      <td>0</td>\n      <td>No</td>\n      <td>No</td>\n      <td>2</td>\n      <td>Yes</td>\n      <td>No</td>\n      <td>DSL</td>\n      <td>Yes</td>\n      <td>...</td>\n      <td>No</td>\n      <td>No</td>\n      <td>No</td>\n      <td>No</td>\n      <td>Month-to-month</td>\n      <td>Yes</td>\n      <td>Mailed check</td>\n      <td>53.85</td>\n      <td>108.15</td>\n      <td>Yes</td>\n    </tr>\n    <tr>\n      <th>3</th>\n      <td>7795-CFOCW</td>\n      <td>Male</td>\n      <td>0</td>\n      <td>No</td>\n      <td>No</td>\n      <td>45</td>\n      <td>No</td>\n      <td>No phone service</td>\n      <td>DSL</td>\n      <td>Yes</td>\n      <td>...</td>\n      <td>Yes</td>\n      <td>Yes</td>\n      <td>No</td>\n      <td>No</td>\n      <td>One year</td>\n      <td>No</td>\n      <td>Bank transfer (automatic)</td>\n      <td>42.30</td>\n      <td>1840.75</td>\n      <td>No</td>\n    </tr>\n    <tr>\n      <th>4</th>\n      <td>9237-HQITU</td>\n      <td>Female</td>\n      <td>0</td>\n      <td>No</td>\n      <td>No</td>\n      <td>2</td>\n      <td>Yes</td>\n      <td>No</td>\n      <td>Fiber optic</td>\n      <td>No</td>\n      <td>...</td>\n      <td>No</td>\n      <td>No</td>\n      <td>No</td>\n      <td>No</td>\n      <td>Month-to-month</td>\n      <td>Yes</td>\n      <td>Electronic check</td>\n      <td>70.70</td>\n      <td>151.65</td>\n      <td>Yes</td>\n    </tr>\n  </tbody>\n</table>\n<p>5 rows × 21 columns</p>\n</div>"
          },
          "metadata": {}
        }
      ],
      "execution_count": 2
    },
    {
      "cell_type": "code",
      "source": "data = pd.read_csv('Telco-Customer-Churn.csv')\ndata = data.drop(\"customerID\", axis=1)\ndata = data.drop(\"SeniorCitizen\", axis=1)\ndata.head()",
      "metadata": {
        "trusted": true
      },
      "outputs": [
        {
          "execution_count": 3,
          "output_type": "execute_result",
          "data": {
            "text/plain": "   gender Partner Dependents  tenure PhoneService     MultipleLines  \\\n0  Female     Yes         No       1           No  No phone service   \n1    Male      No         No      34          Yes                No   \n2    Male      No         No       2          Yes                No   \n3    Male      No         No      45           No  No phone service   \n4  Female      No         No       2          Yes                No   \n\n  InternetService OnlineSecurity OnlineBackup DeviceProtection TechSupport  \\\n0             DSL             No          Yes               No          No   \n1             DSL            Yes           No              Yes          No   \n2             DSL            Yes          Yes               No          No   \n3             DSL            Yes           No              Yes         Yes   \n4     Fiber optic             No           No               No          No   \n\n  StreamingTV StreamingMovies        Contract PaperlessBilling  \\\n0          No              No  Month-to-month              Yes   \n1          No              No        One year               No   \n2          No              No  Month-to-month              Yes   \n3          No              No        One year               No   \n4          No              No  Month-to-month              Yes   \n\n               PaymentMethod  MonthlyCharges TotalCharges Churn  \n0           Electronic check           29.85        29.85    No  \n1               Mailed check           56.95       1889.5    No  \n2               Mailed check           53.85       108.15   Yes  \n3  Bank transfer (automatic)           42.30      1840.75    No  \n4           Electronic check           70.70       151.65   Yes  ",
            "text/html": "<div>\n<style scoped>\n    .dataframe tbody tr th:only-of-type {\n        vertical-align: middle;\n    }\n\n    .dataframe tbody tr th {\n        vertical-align: top;\n    }\n\n    .dataframe thead th {\n        text-align: right;\n    }\n</style>\n<table border=\"1\" class=\"dataframe\">\n  <thead>\n    <tr style=\"text-align: right;\">\n      <th></th>\n      <th>gender</th>\n      <th>Partner</th>\n      <th>Dependents</th>\n      <th>tenure</th>\n      <th>PhoneService</th>\n      <th>MultipleLines</th>\n      <th>InternetService</th>\n      <th>OnlineSecurity</th>\n      <th>OnlineBackup</th>\n      <th>DeviceProtection</th>\n      <th>TechSupport</th>\n      <th>StreamingTV</th>\n      <th>StreamingMovies</th>\n      <th>Contract</th>\n      <th>PaperlessBilling</th>\n      <th>PaymentMethod</th>\n      <th>MonthlyCharges</th>\n      <th>TotalCharges</th>\n      <th>Churn</th>\n    </tr>\n  </thead>\n  <tbody>\n    <tr>\n      <th>0</th>\n      <td>Female</td>\n      <td>Yes</td>\n      <td>No</td>\n      <td>1</td>\n      <td>No</td>\n      <td>No phone service</td>\n      <td>DSL</td>\n      <td>No</td>\n      <td>Yes</td>\n      <td>No</td>\n      <td>No</td>\n      <td>No</td>\n      <td>No</td>\n      <td>Month-to-month</td>\n      <td>Yes</td>\n      <td>Electronic check</td>\n      <td>29.85</td>\n      <td>29.85</td>\n      <td>No</td>\n    </tr>\n    <tr>\n      <th>1</th>\n      <td>Male</td>\n      <td>No</td>\n      <td>No</td>\n      <td>34</td>\n      <td>Yes</td>\n      <td>No</td>\n      <td>DSL</td>\n      <td>Yes</td>\n      <td>No</td>\n      <td>Yes</td>\n      <td>No</td>\n      <td>No</td>\n      <td>No</td>\n      <td>One year</td>\n      <td>No</td>\n      <td>Mailed check</td>\n      <td>56.95</td>\n      <td>1889.5</td>\n      <td>No</td>\n    </tr>\n    <tr>\n      <th>2</th>\n      <td>Male</td>\n      <td>No</td>\n      <td>No</td>\n      <td>2</td>\n      <td>Yes</td>\n      <td>No</td>\n      <td>DSL</td>\n      <td>Yes</td>\n      <td>Yes</td>\n      <td>No</td>\n      <td>No</td>\n      <td>No</td>\n      <td>No</td>\n      <td>Month-to-month</td>\n      <td>Yes</td>\n      <td>Mailed check</td>\n      <td>53.85</td>\n      <td>108.15</td>\n      <td>Yes</td>\n    </tr>\n    <tr>\n      <th>3</th>\n      <td>Male</td>\n      <td>No</td>\n      <td>No</td>\n      <td>45</td>\n      <td>No</td>\n      <td>No phone service</td>\n      <td>DSL</td>\n      <td>Yes</td>\n      <td>No</td>\n      <td>Yes</td>\n      <td>Yes</td>\n      <td>No</td>\n      <td>No</td>\n      <td>One year</td>\n      <td>No</td>\n      <td>Bank transfer (automatic)</td>\n      <td>42.30</td>\n      <td>1840.75</td>\n      <td>No</td>\n    </tr>\n    <tr>\n      <th>4</th>\n      <td>Female</td>\n      <td>No</td>\n      <td>No</td>\n      <td>2</td>\n      <td>Yes</td>\n      <td>No</td>\n      <td>Fiber optic</td>\n      <td>No</td>\n      <td>No</td>\n      <td>No</td>\n      <td>No</td>\n      <td>No</td>\n      <td>No</td>\n      <td>Month-to-month</td>\n      <td>Yes</td>\n      <td>Electronic check</td>\n      <td>70.70</td>\n      <td>151.65</td>\n      <td>Yes</td>\n    </tr>\n  </tbody>\n</table>\n</div>"
          },
          "metadata": {}
        }
      ],
      "execution_count": 3
    },
    {
      "cell_type": "code",
      "source": "from sklearn.preprocessing import LabelEncoder, StandardScaler\nfrom sklearn.model_selection import train_test_split\nfrom sklearn.svm import SVC\nfrom sklearn.metrics import accuracy_score, classification_report, confusion_matrix\nimport pandas as pd\n\ndata = pd.read_csv('Telco-Customer-Churn.csv')\n\nle = LabelEncoder()\nfor col in data.columns:\n    if data[col].dtype == 'object':\n        data[col] = le.fit_transform(data[col])\n\nX = data.drop(columns=['Churn'])\ny = data['Churn']\n\n\nX_train, X_test, y_train, y_test = train_test_split(X, y, test_size=0.3, random_state=42)\n\nscaler = StandardScaler()\nX_train_scaled = scaler.fit_transform(X_train)\nX_test_scaled = scaler.transform(X_test)\n\nsvm_classifier = SVC(kernel='linear', random_state=42)\nsvm_classifier.fit(X_train_scaled, y_train)\n\ny_pred = svm_classifier.predict(X_test_scaled)\n\naccuracy1 = accuracy_score(y_test, y_pred)\nprint(\"Accuracy:\", accuracy1)\n\nconf_matrix = confusion_matrix(y_test, y_pred)\nprint(\"Confusion Matrix:\\n\", conf_matrix)\n\nclass_report = classification_report(y_test, y_pred)\nprint(\"Classification Report:\\n\", class_report)",
      "metadata": {
        "trusted": true
      },
      "outputs": [
        {
          "name": "stdout",
          "text": "Accuracy: 0.8050165641268339\nConfusion Matrix:\n [[1386  153]\n [ 259  315]]\nClassification Report:\n               precision    recall  f1-score   support\n\n           0       0.84      0.90      0.87      1539\n           1       0.67      0.55      0.60       574\n\n    accuracy                           0.81      2113\n   macro avg       0.76      0.72      0.74      2113\nweighted avg       0.80      0.81      0.80      2113\n\n",
          "output_type": "stream"
        }
      ],
      "execution_count": 4
    },
    {
      "cell_type": "code",
      "source": "from sklearn.tree import DecisionTreeClassifier\n\nX = data.drop(columns=['Churn'])\ny = data['Churn']\n\nX_train, X_test, y_train, y_test = train_test_split(X, y, test_size=0.3, random_state=42)\n\ndt_classifier = DecisionTreeClassifier(random_state=42)\ndt_classifier.fit(X_train, y_train)\n\ny_pred = dt_classifier.predict(X_test)\n\naccuracy2 = accuracy_score(y_test, y_pred)\nprint(\"Accuracy:\", accuracy2)\n\nconf_matrix = confusion_matrix(y_test, y_pred)\nprint(\"Confusion Matrix:\\n\", conf_matrix)",
      "metadata": {
        "trusted": true
      },
      "outputs": [
        {
          "name": "stdout",
          "text": "Accuracy: 0.7359204921911974\nConfusion Matrix:\n [[1260  279]\n [ 279  295]]\n",
          "output_type": "stream"
        }
      ],
      "execution_count": 5
    },
    {
      "cell_type": "code",
      "source": "from sklearn.ensemble import RandomForestClassifier\n\nX = data.drop(columns=['Churn'])\ny = data['Churn']\n\nX_train, X_test, y_train, y_test = train_test_split(X, y, test_size=0.3, random_state=42)\n\nrf_classifier = RandomForestClassifier(n_estimators=100, random_state=42)\nrf_classifier.fit(X_train, y_train)\n\ny_pred = rf_classifier.predict(X_test)\n\naccuracy3 = accuracy_score(y_test, y_pred)\nprint(\"Accuracy:\", accuracy3)\n\nconf_matrix = confusion_matrix(y_test, y_pred)\nprint(\"Confusion Matrix:\\n\", conf_matrix)\n\nclass_report = classification_report(y_test, y_pred)\nprint(\"Classification Report:\\n\", class_report)",
      "metadata": {
        "trusted": true
      },
      "outputs": [
        {
          "name": "stdout",
          "text": "Accuracy: 0.7988641741599621\nConfusion Matrix:\n [[1401  138]\n [ 287  287]]\nClassification Report:\n               precision    recall  f1-score   support\n\n           0       0.83      0.91      0.87      1539\n           1       0.68      0.50      0.57       574\n\n    accuracy                           0.80      2113\n   macro avg       0.75      0.71      0.72      2113\nweighted avg       0.79      0.80      0.79      2113\n\n",
          "output_type": "stream"
        }
      ],
      "execution_count": 6
    },
    {
      "cell_type": "code",
      "source": "from sklearn.ensemble import AdaBoostClassifier\n\nX = data.drop(columns=['Churn'])\ny = data['Churn']\n\nX_train, X_test, y_train, y_test = train_test_split(X, y, test_size=0.3, random_state=42)\n\nadaboost_classifier = AdaBoostClassifier(n_estimators=50, random_state=42)\nadaboost_classifier.fit(X_train, y_train)\n\ny_pred = adaboost_classifier.predict(X_test)\n\naccuracy4 = accuracy_score(y_test, y_pred)\nprint(\"Accuracy:\", accuracy4)\n\nconf_matrix = confusion_matrix(y_test, y_pred)\nprint(\"Confusion Matrix:\\n\", conf_matrix)\n\nclass_report = classification_report(y_test, y_pred)\nprint(\"Classification Report:\\n\", class_report)",
      "metadata": {
        "trusted": true
      },
      "outputs": [
        {
          "name": "stdout",
          "text": "Accuracy: 0.8002839564600095\nConfusion Matrix:\n [[1394  145]\n [ 277  297]]\nClassification Report:\n               precision    recall  f1-score   support\n\n           0       0.83      0.91      0.87      1539\n           1       0.67      0.52      0.58       574\n\n    accuracy                           0.80      2113\n   macro avg       0.75      0.71      0.73      2113\nweighted avg       0.79      0.80      0.79      2113\n\n",
          "output_type": "stream"
        }
      ],
      "execution_count": 7
    },
    {
      "cell_type": "code",
      "source": "print(\"The accuracies are:\")\n\nprint(f\"SVM: {accuracy1}:\")\nprint(f\"Decison Tree: {accuracy2}\")\nprint(f\"Random Forest: {accuracy3}\")\nprint(f\"AdaBoost: {accuracy4}\")\n\nprint(f\"\\nThe algorithm with best accuracy is SVM with an {accuracy1:.2f}.\")",
      "metadata": {
        "trusted": true
      },
      "outputs": [
        {
          "name": "stdout",
          "text": "The accuracies are:\nSVM: 0.8050165641268339:\nDecison Tree: 0.7359204921911974\nRandom Forest: 0.7988641741599621\nAdaBoost: 0.8002839564600095\n\nThe algorithm with best accuracy is SVM with an 0.81.\n",
          "output_type": "stream"
        }
      ],
      "execution_count": 8
    },
    {
      "cell_type": "code",
      "source": "import pandas as pd\nimport numpy as np\nfrom sklearn.model_selection import train_test_split\nfrom sklearn.preprocessing import LabelEncoder, StandardScaler\nfrom sklearn.svm import SVC\nfrom sklearn.metrics import accuracy_score, classification_report, confusion_matrix\nfrom sklearn.tree import DecisionTreeClassifier\nfrom sklearn.ensemble import RandomForestClassifier\nfrom sklearn.ensemble import AdaBoostClassifier\nfrom sklearn.model_selection import RandomizedSearchCV\nfrom sklearn.model_selection import GridSearchCV \nimport warnings \n\nwarnings.filterwarnings('ignore') \n\ndf = pd.read_csv('Telco-Customer-Churn.csv') \n\ndf.drop('customerID', inplace=True, axis=1) \n\ndf['TotalCharges'] = df['TotalCharges'].apply(pd.to_numeric, errors='coerce') \n\ndf.isnull().sum() \n\ndf['TotalCharges'].fillna(df['TotalCharges'].mean(), inplace=True) \n\nfrom sklearn.preprocessing import LabelEncoder\nle = LabelEncoder() \nobject_columns = df.select_dtypes(include='object').columns \ndf[object_columns] = df[object_columns].apply(lambda x: le.fit_transform(x)) \n\n\nx = df.iloc[:, :-1].values \ny = df.iloc[:, -1].values \n\n\nfrom sklearn.model_selection import train_test_split \nx_train, x_test, y_train, y_test = train_test_split(x, y, test_size=0.3, random_state=42) \n\nfrom sklearn.preprocessing import StandardScaler \nscaler = StandardScaler() \nx_train = scaler.fit_transform(x_train) \nx_test = scaler.transform(x_test) \n\nfrom sklearn.neighbors import KNeighborsClassifier \nknn = KNeighborsClassifier() \nknn.fit(x_train, y_train) \n\nknn_params = {'n_neighbors': np.arange(1, 50)} \n\nprint(\"Grid Search for KNN:\") \ngrid_knn = GridSearchCV(knn, knn_params, scoring='accuracy', cv=9, n_jobs=-1) \ngrid_knn.fit(x_train, y_train) \nprint(\"Best parameters:\", grid_knn.best_params_) \nprint(\"Best score:\", grid_knn.best_score_) \n\nprint(\"\\nRandomized Search for KNN:\") \nrand_knn = RandomizedSearchCV(knn, knn_params, scoring='accuracy', cv=9, n_jobs=-1) \nrand_knn.fit(x_train, y_train) \nprint(\"Best parameters:\", rand_knn.best_params_) \nprint(\"Best score:\", rand_knn.best_score_) \n\nfrom sklearn.linear_model import LogisticRegression \nlr = LogisticRegression() \n\n\nlr_params = {'solver': ['newton-cg', 'lbfgs', 'sag'], 'C': np.logspace(-3, 2.45, 7), 'penalty': ['l1', 'l2']} \n\nprint(\"\\nGrid Search for Logistic Regression:\") \ngrid_lr = GridSearchCV(lr, lr_params, scoring='accuracy', cv=9, n_jobs=-1) \ngrid_lr.fit(x_train, y_train) \nprint(\"Best parameters:\", grid_lr.best_params_) \nprint(\"Best score:\", grid_lr.best_score_) \n\nprint(\"\\nRandomized Search for Logistic Regression:\") \nrand_lr = RandomizedSearchCV(lr, lr_params, scoring='accuracy', cv=9, n_jobs=-1) \nrand_lr.fit(x_train, y_train) \nprint(\"Best parameters:\", rand_lr.best_params_) \nprint(\"Best score:\", rand_lr.best_score_) \n\nfrom sklearn.naive_bayes import GaussianNB \ngnb = GaussianNB() \n\ngnb_params = {'var_smoothing': np.logspace(5, -7, 79)} \n\nprint(\"\\nGrid Search for Naive Bayes:\") \ngrid_gnb = GridSearchCV(gnb, gnb_params, scoring='accuracy', cv=9, n_jobs=-1) \ngrid_gnb.fit(x_train, y_train) \nprint(\"Best parameters:\", grid_gnb.best_params_) \nprint(\"Best score:\", grid_gnb.best_score_) \n\nprint(\"\\nRandomized Search for Naive Bayes:\") \nrand_gnb = RandomizedSearchCV(gnb, gnb_params, scoring='accuracy', cv=9, n_jobs=-1) \nrand_gnb.fit(x_train, y_train) \nprint(\"Best parameters:\", rand_gnb.best_params_) \nprint(\"Best score:\", rand_gnb.best_score_) \n\nfrom sklearn.tree import DecisionTreeClassifier \ndtc = DecisionTreeClassifier() \n\ndtc_params = {'criterion': ['gini', 'entropy'], 'max_depth': np.arange(1, 20), 'min_samples_split': np.arange(2, 10), 'max_features': np.arange(1, 7)} \n\nprint(\"\\nGrid Search for Decision Trees:\") \ngrid_dtc = GridSearchCV(dtc, dtc_params, scoring='accuracy', cv=9, n_jobs=-1) \ngrid_dtc.fit(x_train, y_train) \nprint(\"Best parameters:\", grid_dtc.best_params_) \nprint(\"Best score:\", grid_dtc.best_score_) \n\nprint(\"\\nRandomized Search for Decision Trees:\") \nrand_dtc = RandomizedSearchCV(dtc, dtc_params, scoring='accuracy', cv=9, n_jobs=-1) \nrand_dtc.fit(x_train, y_train) \nprint(\"Best parameters:\", rand_dtc.best_params_) \nprint(\"Best score:\", rand_dtc.best_score_) \n\nfrom sklearn.svm import SVC \nsvc = SVC() \n\nsvc_params = {'C': [0.1, 1, 10, 100], 'gamma': [0.1, 0.001, 0.01, 0.001], 'kernel': ['poly', 'sigmoid', 'rbf']} \n\nprint(\"\\nGrid Search for SVM:\") \ngrid_svc = GridSearchCV(svc, svc_params, scoring='accuracy', cv=9, n_jobs=-1) \ngrid_svc.fit(x_train, y_train) \nprint(\"Best parameters:\", grid_svc.best_params_) \nprint(\"Best score:\", grid_svc.best_score_) \n\nprint(\"\\nRandomized Search for SVM:\") \nrand_svc = RandomizedSearchCV(svc, svc_params, scoring='accuracy', cv=9, n_jobs=-1) \nrand_svc.fit(x_train, y_train) \nprint(\"Best parameters:\", rand_svc.best_params_) \nprint(\"Best score:\", rand_svc.best_score_) ",
      "metadata": {
        "trusted": true
      },
      "outputs": [
        {
          "name": "stdout",
          "text": "Grid Search for KNN:\nBest parameters: {'n_neighbors': 44}\nBest score: 0.7797130555073681\n\nRandomized Search for KNN:\nBest parameters: {'n_neighbors': 43}\nBest score: 0.7770764666373096\n\nGrid Search for Logistic Regression:\nBest parameters: {'C': 0.06556418494179789, 'penalty': 'l2', 'solver': 'newton-cg'}\nBest score: 0.7993916533595472\n\nRandomized Search for Logistic Regression:\nBest parameters: {'solver': 'sag', 'penalty': 'l2', 'C': 0.06556418494179789}\nBest score: 0.7993916533595472\n\nGrid Search for Naive Bayes:\nBest parameters: {'var_smoothing': 2.424462017082326}\nBest score: 0.7853958256418925\n\nRandomized Search for Naive Bayes:\nBest parameters: {'var_smoothing': 0.02424462017082326}\nBest score: 0.7484832107892196\n\nGrid Search for Decision Trees:\nBest parameters: {'criterion': 'entropy', 'max_depth': 7, 'max_features': 5, 'min_samples_split': 9}\nBest score: 0.7902590403157531\n\nRandomized Search for Decision Trees:\nBest parameters: {'min_samples_split': 7, 'max_features': 3, 'max_depth': 6, 'criterion': 'entropy'}\nBest score: 0.7736340371650424\n\nGrid Search for SVM:\n",
          "output_type": "stream"
        }
      ],
      "execution_count": null
    }
  ]
}